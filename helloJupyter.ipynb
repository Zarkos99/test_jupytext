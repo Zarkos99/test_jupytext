{
 "cells": [
  {
   "cell_type": "code",
   "execution_count": 4,
   "id": "db1d5f2c-1ca6-47ac-9e01-8bae52036ecc",
   "metadata": {},
   "outputs": [
    {
     "name": "stdout",
     "output_type": "stream",
     "text": [
      "Hello\n"
     ]
    }
   ],
   "source": [
    "print('Hello')"
   ]
  },
  {
   "cell_type": "markdown",
   "id": "398eb51e-cec8-42eb-8c53-8de2bc27a127",
   "metadata": {},
   "source": [
    "The previous code is extremely performant..."
   ]
  },
  {
   "cell_type": "code",
   "execution_count": null,
   "id": "e9c7007a-0364-4158-a4bc-a1cabbf99673",
   "metadata": {},
   "outputs": [],
   "source": []
  }
 ],
 "metadata": {
  "jupytext": {
   "formats": "ipynb,py"
  },
  "kernelspec": {
   "display_name": "Python 3 (ipykernel)",
   "language": "python",
   "name": "python3"
  },
  "language_info": {
   "codemirror_mode": {
    "name": "ipython",
    "version": 3
   },
   "file_extension": ".py",
   "mimetype": "text/x-python",
   "name": "python",
   "nbconvert_exporter": "python",
   "pygments_lexer": "ipython3",
   "version": "3.11.9"
  }
 },
 "nbformat": 4,
 "nbformat_minor": 5
}
